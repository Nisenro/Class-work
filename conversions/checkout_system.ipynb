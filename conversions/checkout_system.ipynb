{
 "cells": [
  {
   "cell_type": "code",
   "execution_count": null,
   "id": "cd080fb3-256d-4fee-87bc-8e37c53a0701",
   "metadata": {},
   "outputs": [],
   "source": [
    "\n",
    "def menu = ''' \n",
    "    1. Habbeer ($3.50)\n",
    "    2. Wine ($4.00)\n",
    "    3. Java Coffee ($2.50)\n",
    "    4. Apple Juice ($6.00)\n",
    "    5. Root Access Beer ($1.75)\n",
    "    '''\n",
    "    print(menu)\n",
    "\n",
    "def get_price(item):\n",
    "    prices = {\n",
    "        '1': 3.50,\n",
    "        '2': 4.00,\n",
    "        '3': 2.50,\n",
    "        '4': 6.00,\n",
    "        '5': 1.75 \n",
    "    }\n",
    "    return prices.get(item, 0)\n",
    "\n",
    "def get_order():\n",
    "    order = input(\"Please write down your order: \")\n",
    "    return order\n",
    "\n",
    "def calculate_total_price(order):\n",
    "    total_price = 0\n",
    "    for item in order:\n",
    "        price = get_price(item)\n",
    "        total_price += price\n",
    "    return total_price\n",
    "\n",
    "def add_percentage(price, percentage=15):\n",
    "    total_price_plus_tax = price + (price * percentage / 100)\n",
    "    return total_price_plus_tax\n",
    "\n",
    "def add_tip(total_price_plus_tax):\n",
    "    while True:\n",
    "        tip_input = input(\"How much tip would you like to give? \")\n",
    "        if tip_input.isdigit() and int(tip_input) > 0:\n",
    "            tip_added = int(tip_input) + total_price_plus_tax\n",
    "        return tip_added\n",
    "    \n",
    "def print_total_price(tip_added):\n",
    "    print(\"Total price: $\", \"{:.2f}\".format(tip_added))\n",
    "\n",
    "def main():\n",
    "    display_menu()\n",
    "    order = get_order()\n",
    "    total_price = calculate_total_price(order)\n",
    "    total_price_plus_tax = add_percentage(total_price)\n",
    "    tip_added = add_tip(total_price_plus_tax)\n",
    "    print_total_price(tip_added)\n",
    "\n",
    "if __name__ == \"__main__\":\n",
    "    main()"
   ]
  }
 ],
 "metadata": {
  "kernelspec": {
   "display_name": "Python 3 (ipykernel)",
   "language": "python",
   "name": "python3"
  },
  "language_info": {
   "codemirror_mode": {
    "name": "ipython",
    "version": 3
   },
   "file_extension": ".py",
   "mimetype": "text/x-python",
   "name": "python",
   "nbconvert_exporter": "python",
   "pygments_lexer": "ipython3",
   "version": "3.11.7"
  }
 },
 "nbformat": 4,
 "nbformat_minor": 5
}
